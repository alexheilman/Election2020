{
 "cells": [
  {
   "cell_type": "code",
   "execution_count": 3,
   "metadata": {},
   "outputs": [],
   "source": [
    "from bs4 import BeautifulSoup\n",
    "import requests\n",
    "\n",
    "with open('TESTPAGE.html', encoding = 'utf-8') as html_file:\n",
    "    soup = BeautifulSoup(html_file, 'lxml')\n",
    "    "
   ]
  },
  {
   "cell_type": "code",
   "execution_count": 19,
   "metadata": {},
   "outputs": [],
   "source": [
    "\n"
   ]
  },
  {
   "cell_type": "code",
   "execution_count": 16,
   "metadata": {},
   "outputs": [
    {
     "ename": "SyntaxError",
     "evalue": "invalid syntax (<ipython-input-16-d6db0aba597a>, line 1)",
     "output_type": "error",
     "traceback": [
      "\u001b[1;36m  File \u001b[1;32m\"<ipython-input-16-d6db0aba597a>\"\u001b[1;36m, line \u001b[1;32m1\u001b[0m\n\u001b[1;33m    table = article.find(lambda tag: tag.name='table' and class_=\"wikitable sortable jquery-tablesorter\")\u001b[0m\n\u001b[1;37m                                                                ^\u001b[0m\n\u001b[1;31mSyntaxError\u001b[0m\u001b[1;31m:\u001b[0m invalid syntax\n"
     ]
    }
   ],
   "source": [
    "import pandas as pd\n",
    "\n",
    "tables = pd.read_html('TESTPAGE.html', header=0,\n",
    "                      keep_default_na=False)\n",
    "\n",
    "headings = ['Poll source', 'Country name', 'Year', 'ccTLD']\n",
    "for table in tables:\n",
    "    current_headings = table.columns.values[:4]\n",
    "    if len(current_headings) != len(headings):\n",
    "        continue\n",
    "    if all(current_headings == headings):\n",
    "        break\n",
    "\n",
    "table['Country name'].replace({r'.*!(.*)': r'\\1'}, regex=True, inplace=True)\n",
    "table[headings].to_csv('test.txt', sep=';', header=False, index=False)"
   ]
  },
  {
   "cell_type": "code",
   "execution_count": 22,
   "metadata": {},
   "outputs": [],
   "source": [
    "import pandas as pd\n",
    "\n",
    "tables = pd.read_html('TESTPAGE.html', header=0,\n",
    "                      keep_default_na=False)"
   ]
  },
  {
   "cell_type": "code",
   "execution_count": 72,
   "metadata": {},
   "outputs": [
    {
     "ename": "SyntaxError",
     "evalue": "unexpected EOF while parsing (<ipython-input-72-e378ed751308>, line 6)",
     "output_type": "error",
     "traceback": [
      "\u001b[1;36m  File \u001b[1;32m\"<ipython-input-72-e378ed751308>\"\u001b[1;36m, line \u001b[1;32m6\u001b[0m\n\u001b[1;33m    \u001b[0m\n\u001b[1;37m    ^\u001b[0m\n\u001b[1;31mSyntaxError\u001b[0m\u001b[1;31m:\u001b[0m unexpected EOF while parsing\n"
     ]
    }
   ],
   "source": [
    "import numpy as np\n",
    "headings = ['Poll source', 'Date(s)administered', 'Samplesize[n]', 'Marginof error']\n",
    "for table in tables:\n",
    "    #print(table.columns.values[:5])\n",
    "    if all(table.columns.values == headings):\n",
    "       "
   ]
  },
  {
   "cell_type": "code",
   "execution_count": 66,
   "metadata": {},
   "outputs": [
    {
     "name": "stdout",
     "output_type": "stream",
     "text": [
      "            Poll source Date(s)administered Samplesize[b] Marginof error  \\\n",
      "0  SurveyMonkey/Tableau      Sep 1–30, 2020      236 (LV)              –   \n",
      "1  SurveyMonkey/Tableau      Aug 1–31, 2020      211 (LV)              –   \n",
      "2  SurveyMonkey/Tableau      Jul 1–31, 2020      246 (LV)              –   \n",
      "3  SurveyMonkey/Tableau      Jun 8–30, 2020       98 (LV)              –   \n",
      "\n",
      "  DonaldTrump (R) JoeBiden (D) Undecided  \n",
      "0             65%          34%        1%  \n",
      "1             74%          25%        1%  \n",
      "2             70%          28%        2%  \n",
      "3             78%          22%        0%  \n"
     ]
    }
   ],
   "source": [
    "print(p)"
   ]
  },
  {
   "cell_type": "code",
   "execution_count": null,
   "metadata": {},
   "outputs": [],
   "source": []
  }
 ],
 "metadata": {
  "kernelspec": {
   "display_name": "Python 3",
   "language": "python",
   "name": "python3"
  },
  "language_info": {
   "codemirror_mode": {
    "name": "ipython",
    "version": 3
   },
   "file_extension": ".py",
   "mimetype": "text/x-python",
   "name": "python",
   "nbconvert_exporter": "python",
   "pygments_lexer": "ipython3",
   "version": "3.8.5"
  }
 },
 "nbformat": 4,
 "nbformat_minor": 4
}
