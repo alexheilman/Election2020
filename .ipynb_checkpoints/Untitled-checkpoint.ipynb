{
 "cells": [
  {
   "cell_type": "code",
   "execution_count": 82,
   "metadata": {},
   "outputs": [],
   "source": [
    "import numpy as np\n",
    "import pandas as pd\n",
    "# Recursive Bayesian Estimation\n",
    "# Kalman Filter\n",
    "# https://www-oxfordhandbooks-com.stanford.idm.oclc.org/view/10.1093/oxfordhb/9780190213299.001.0001/oxfordhb-9780190213299-e-28\n",
    "# https://nbviewer.jupyter.org/github/rlabbe/Kalman-and-Bayesian-Filters-in-Python/blob/master/01-g-h-filter.ipynb\n",
    "# https://www.johndcook.com/blog/2012/10/29/product-of-normal-pdfs/\n",
    "# https://ccrma.stanford.edu/~jos/sasp/Product_Two_Gaussian_PDFs.html\n",
    "\n",
    "# Import polling data\n",
    "df = pd.read_csv('data2.csv', encoding='cp1252')#, index_col = 0)\n",
    "#df.insert(df.shape[1], \"PA_Biden\", '')\n",
    "#df.insert(df.shape[1], \"PA_Trump\", '')\n",
    "#df.insert(df.shape[1], \"PA_SD\", '')\n",
    "\n",
    "\n",
    "# Dictionary of Electoral College Votes\n",
    "EC = {  'AK':3, 'AL':9, 'AR':6, 'AZ':11, 'CA':55, 'CO': 9, 'CT':7, 'DE':3, 'FL':29, 'GA':16, \\\n",
    "        'HI':4, 'IA':6, 'ID':4, 'IL':20, 'IN':11, 'KS':6, 'KY':8, 'LA':8, 'MA':11, 'MD':10, \\\n",
    "        'ME':4, 'MI':16, 'MN':10, 'MO':10, 'MS':6, 'MT':3, 'NC':15, 'ND':3, 'NE':5, 'NH':4, \\\n",
    "        'NJ':14, 'NM':5, 'NV':6, 'NY':29, 'OH':18, 'OK':7, 'OR':7, 'PA':20, 'RI':4, 'SC':9, \\\n",
    "        'SD':3, 'TN':11, 'TX':38, 'UT':6, 'VA':13, 'VT':3, 'WA':12, 'WI':10, 'WV':5, 'WY':3, \\\n",
    "        'DC':3}\n",
    "\n",
    "\n",
    "# List of States\n",
    "States = (  'AK', 'AL', 'AR', 'AZ', 'CA', 'CO', 'CT', 'DE', 'FL', 'GA', \\\n",
    "            'HI', 'IA', 'ID', 'IL', 'IN', 'KS', 'KY', 'LA', 'MA', 'MD', \\\n",
    "            'ME', 'MI', 'MN', 'MO', 'MS', 'MT', 'NC', 'ND', 'NE', 'NH', \\\n",
    "            'NJ', 'NM', 'NV', 'NY', 'OH', 'OK', 'OR', 'PA', 'RI', 'SC', \\\n",
    "            'SD', 'TN', 'TX', 'UT', 'VA', 'VT', 'WA', 'WI', 'WV', 'WY', 'DC')\n"
   ]
  },
  {
   "cell_type": "code",
   "execution_count": 84,
   "metadata": {},
   "outputs": [],
   "source": [
    "def StateElection():\n",
    "    BidenDelegates = 0\n",
    "    TrumpDelegates = 0\n",
    "\n",
    "    for i in range(0, len(States)):\n",
    "        State = States[i]\n",
    "\n",
    "        BidenResult = np.random.normal(df.PA_Biden[State], df.PA_SD[State])\n",
    "        TrumpResult = np.random.normal(df.PA_Trump[State], df.PA_SD[State])\n",
    "\n",
    "        if BidenResult > TrumpResult:\n",
    "            BidenDelegates = BidenDelegates + EC[State]\n",
    "        else:\n",
    "            TrumpDelegates = TrumpDelegates + EC[State]\n",
    "\n",
    "    return BidenDelegates, TrumpDelegates\n",
    "\n",
    "\n",
    "# Description on bayesion updating of gausian / normal PDFs\n",
    "def BayesianUpdate(PriorMU, PriorSD, LikelihoodMU, LikelihoodSD):\n",
    "    PosteriorMU = (((PriorSD**2)*(LikelihoodMU)) + ((LikelihoodSD**2)*(PriorMU))) \\\n",
    "        / ((PriorSD**2) + (LikelihoodSD**2))\n",
    "\n",
    "    PosteriorSD = (((PriorSD**2)*(LikelihoodSD**2)) \\\n",
    "                    / ((PriorSD**2) + (LikelihoodSD**2)))**(1/2)\n",
    "\n",
    "    return PosteriorMU, PosteriorSD\n"
   ]
  },
  {
   "cell_type": "code",
   "execution_count": 116,
   "metadata": {},
   "outputs": [],
   "source": [
    "QtyPolls = 10\n",
    "Results = np.empty([51,4])\n",
    "\n",
    "#aggregation for last QtyPolls where margin of error exists\n",
    "for i in range(0,len(States)):\n",
    "    State = States[i]\n",
    "\n",
    "    \n",
    "    #Aggregate state polls for polls with margin of error listed\n",
    "    if (len(df.loc[(df['State'] == State) & (df['MOE'] > 0)]) > 0):\n",
    "        StatePolls = df.loc[(df['State'] == State) & (df['MOE'] > 0)]\n",
    "\n",
    "        AggSD = StatePolls.iloc[0,4] / 100 / 1.96\n",
    "        AggTrumpMU = StatePolls.iloc[0,5]\n",
    "        AggBidenMU = StatePolls.iloc[0,6]\n",
    "\n",
    "        for j in range(1, QtyPolls):\n",
    "            if (j < len(StatePolls)):\n",
    "                AggBidenMU, ignore = BayesianUpdate(AggBidenMU, AggSD, StatePolls.iloc[j,6], StatePolls.iloc[j,4] / 1.96)\n",
    "                AggTrumpMU, AggSD = BayesianUpdate(AggTrumpMU, AggSD, StatePolls.iloc[j,5], StatePolls.iloc[j,4] / 1.96)\n",
    "        #Results[i,0] = State\n",
    "        Results[i,1] = AggBidenMU\n",
    "        Results[i,2] = AggTrumpMU\n",
    "        Results[i,3] = AggSD\n",
    "        \n",
    "    #for states with no margin of error listed, set equal to latest poll with .02 standard deviation\n",
    "    else:\n",
    "        StatePolls = df.loc[(df['State'] == State)]\n",
    "        Results[i,1] = StatePolls.iloc[0,6]\n",
    "        Results[i,2] = StatePolls.iloc[0,5]\n",
    "        Results[i,3] = .02\n"
   ]
  },
  {
   "cell_type": "code",
   "execution_count": 136,
   "metadata": {},
   "outputs": [
    {
     "data": {
      "image/png": "[encoded data removed]",
      "text/plain": [
       "<Figure size 432x288 with 1 Axes>"
      ]
     },
     "metadata": {
      "needs_background": "light"
     },
     "output_type": "display_data"
    },
    {
     "data": {
      "text/plain": [
       "\"\\nplt.title('Aggregated ' + States[i])\\nB_MU = Results[i,1]\\nT_MU = Results[i,2]\\nSD = Results[i,3]\\nB = np.linspace(B_MU - 3*SD, B_MU + 3*SD, 100)\\nT = np.linspace(T_MU - 3*SD, T_MU + 3*SD, 100)\\nplt.plot(B, stats.norm.pdf(B, B_MU, SD), color = 'b')\\nplt.plot(T, stats.norm.pdf(T, T_MU, SD), color = 'r')\\nplt.show()\\n\""
      ]
     },
     "execution_count": 136,
     "metadata": {},
     "output_type": "execute_result"
    }
   ],
   "source": [
    "import matplotlib.pyplot as plt\n",
    "import scipy.stats as stats\n",
    "\n",
    "i = 5\n",
    "State = States[i]\n",
    "\n",
    "StatePolls = df.loc[(df['State'] == State) & (df['MOE'] > 0)]\n",
    "\n",
    "#print(StatePolls)\n",
    "B_MU_1 = StatePolls.iloc[0,6]\n",
    "SD_1 = StatePolls.iloc[0,4] / 100 / 1.96\n",
    "B_MU_2 = StatePolls.iloc[1,6]\n",
    "SD_2 = StatePolls.iloc[1,4] / 100 / 1.96\n",
    "B_MU_3 = StatePolls.iloc[2,6]\n",
    "SD_3 = StatePolls.iloc[2,4] / 100 / 1.96\n",
    "\n",
    "BA_MU = Results[i,1]\n",
    "SDA   = Results[i,3]\n",
    "#print(Results)\n",
    "\n",
    "plt.title('Aggregated Biden in State ' + State)\n",
    "B1 = np.linspace(B_MU_1 - 3*SD_1, B_MU_1 + 3*SD_1, 100)\n",
    "B2 = np.linspace(B_MU_2 - 3*SD_2, B_MU_2 + 3*SD_2, 100)\n",
    "B3 = np.linspace(B_MU_3 - 3*SD_3, B_MU_3 + 3*SD_3, 100)\n",
    "BA = np.linspace(B_MU - 3*SD, B_MU + 3*SD, 100)\n",
    "plt.plot(B1, stats.norm.pdf(B1, B_MU_1, SD_1))\n",
    "plt.plot(B2, stats.norm.pdf(B2, B_MU_2, SD_2))\n",
    "plt.plot(B3, stats.norm.pdf(B3, B_MU_3, SD_3))\n",
    "plt.plot(BA, stats.norm.pdf(BA, BA_MU, SDA))\n",
    "plt.show()\n",
    "\n",
    "\n",
    "# Aggregated Biden vs. Trump\n",
    "'''\n",
    "plt.title('Aggregated ' + States[i])\n",
    "B_MU = Results[i,1]\n",
    "T_MU = Results[i,2]\n",
    "SD = Results[i,3]\n",
    "B = np.linspace(B_MU - 3*SD, B_MU + 3*SD, 100)\n",
    "T = np.linspace(T_MU - 3*SD, T_MU + 3*SD, 100)\n",
    "plt.plot(B, stats.norm.pdf(B, B_MU, SD), color = 'b')\n",
    "plt.plot(T, stats.norm.pdf(T, T_MU, SD), color = 'r')\n",
    "plt.show()\n",
    "'''"
   ]
  },
  {
   "cell_type": "code",
   "execution_count": 93,
   "metadata": {},
   "outputs": [
    {
     "name": "stdout",
     "output_type": "stream",
     "text": [
      "0.9265816838302844\n"
     ]
    }
   ],
   "source": [
    "print(Results[0,3])"
   ]
  },
  {
   "cell_type": "code",
   "execution_count": null,
   "metadata": {},
   "outputs": [],
   "source": []
  }
 ],
 "metadata": {
  "kernelspec": {
   "display_name": "Python 3",
   "language": "python",
   "name": "python3"
  },
  "language_info": {
   "codemirror_mode": {
    "name": "ipython",
    "version": 3
   },
   "file_extension": ".py",
   "mimetype": "text/x-python",
   "name": "python",
   "nbconvert_exporter": "python",
   "pygments_lexer": "ipython3",
   "version": "3.8.5"
  }
 },
 "nbformat": 4,
 "nbformat_minor": 4
}
